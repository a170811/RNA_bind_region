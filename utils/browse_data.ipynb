{
 "cells": [
  {
   "cell_type": "code",
   "execution_count": 5,
   "metadata": {},
   "outputs": [],
   "source": [
    "import pandas as pd\n",
    "import numpy as np\n",
    "\n",
    "pos = pd.read_csv('./raw/pos.csv', index_col=False)[['piRNA_seq', 'mRNA_seq']]\n",
    "neg = pd.read_csv('./raw/neg.csv', index_col=False)[['piRNA_seq', 'mRNA_seq']]"
   ]
  },
  {
   "cell_type": "code",
   "execution_count": 6,
   "metadata": {},
   "outputs": [
    {
     "name": "stdout",
     "output_type": "stream",
     "text": [
      "                    piRNA_seq                         mRNA_seq\n",
      "0       TAGTTTCTCTTTGTTGCAAAA  ACAATGCACCATGACATCAGAAACTATGAGA\n",
      "1       TAGTTTCTCTTTGTTGCAAAA  ACAATGCACCATGACATCAGAAACTATGAGA\n",
      "2       TAGTTTCTCTTTGTTGCAAAA  ACAATGCACCATGACATCAGAAACTATGAGA\n",
      "3       TAGTTTCTCTTTGTTGCAAAA  ACAATGCACCATGACATCAGAAACTATGAGA\n",
      "4       TAGTTTCTCTTTGTTGCAAAA  ACAATGCACCATGACATCAGAAACTATGAGA\n",
      "...                       ...                              ...\n",
      "243677  TGCACCTTGAGGGGAACTAGA  AAATCGTTCCCGTGAGGCCAGAAGAGATCGC\n",
      "243678  TGCACCTTGAGGGGAACTAGA  AAATCGTTCCCGTGAGGCCAGAAGAGATCGC\n",
      "243679  TGCACCTTGAGGGGAACTAGA  AAATCGTTCCCGTGAGGCCAGAAGAGATCGC\n",
      "243680  TGCGAGCTTCGCCATTTTAGA  TAGTACATACTGGAGGCTTGCCATGAAACAA\n",
      "243681  TGCGAGCTTCGCCATTTTAGA  TAGTACATACTGGAGGCTTGCCATGAAACAA\n",
      "\n",
      "[243682 rows x 2 columns]\n",
      "                    piRNA_seq                         mRNA_seq\n",
      "0       TATGATGCCTAATGGAAATCA  AGTGATATGAGGCAGCTTGGGAATAGGTGGA\n",
      "1       TATGATGCCTAATGGAAATCA  CATCGGCACTTTCTGAAGCGACTGTAAAATA\n",
      "2       TATGATGCCTAATGGAAATCA  TTCTTTTCACAACTGATCCTCTTTCAACAAA\n",
      "3       TATGATGCCTAATGGAAATCA  AAGTTGGCGGCAGCTTCGAATTTCACGATGG\n",
      "4       TATGATGCCTAATGGAAATCA  TCCAATGCGTTAGAGTCTCTAAAATAGAATC\n",
      "...                       ...                              ...\n",
      "243677  TTAAGTGATCGTTACACTCAA  GCCGATGATGCAGCTCAAGCAGGCGACAACG\n",
      "243678  TTAAGTGATCGTTACACTCAA  GTTGAGATGAAGGCTGGAGATTTTGTGTTCT\n",
      "243679  TTAAGTGATCGTTACACTCAA  AAAAGCTGCGCTTGACCAATACACCAGATGC\n",
      "243680  TTAAGTGATCGTTACACTCAA  TCAAAGTGATTTCTGTCTTCAATCCGAGTAT\n",
      "243681  TTAAGTGATCGTTACACTCAA  TGGGGAGCTTTATGTTGATTATTCTTTGGTG\n",
      "\n",
      "[243682 rows x 2 columns]\n"
     ]
    }
   ],
   "source": [
    "print(pos)\n",
    "print(neg)"
   ]
  },
  {
   "cell_type": "code",
   "execution_count": null,
   "metadata": {},
   "outputs": [],
   "source": [
    "def length(seqs):\n",
    "    lengths = [len(seq) for seq in seqs]\n",
    "    results = {\n",
    "        'mean': np.mean(lengths),\n",
    "        'std': np.std(lengths),\n",
    "        'min': np.min(lengths),\n",
    "        'max': np.max(lengths)       \n",
    "    }\n",
    "    return results\n",
    "\n",
    "print(length(pos['piRNA_seq']))\n",
    "print(length(pos['mRNA_seq']))\n",
    "print(length(neg['piRNA_seq']))\n",
    "print(length(neg['mRNA_seq']))\n"
   ]
  },
  {
   "cell_type": "code",
   "execution_count": null,
   "metadata": {},
   "outputs": [],
   "source": []
  }
 ],
 "metadata": {
  "kernelspec": {
   "display_name": "Python 3",
   "language": "python",
   "name": "python3"
  },
  "language_info": {
   "codemirror_mode": {
    "name": "ipython",
    "version": 3
   },
   "file_extension": ".py",
   "mimetype": "text/x-python",
   "name": "python",
   "nbconvert_exporter": "python",
   "pygments_lexer": "ipython3",
   "version": "3.6.9"
  }
 },
 "nbformat": 4,
 "nbformat_minor": 4
}
